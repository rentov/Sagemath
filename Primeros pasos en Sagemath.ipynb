{
 "cells": [
  {
   "cell_type": "markdown",
   "id": "golden-interest",
   "metadata": {},
   "source": [
    "# Sobre Sagemath\n",
    "[Sagemath](https://www.sagemath.org/) es un sistema de software matemático de código abierto con licencia GPL. Se basa en muchos paquetes de código abierto existentes: NumPy, SciPy, matplotlib, Sympy, Maxima, GAP, FLINT, R y muchos más. Accede a su poder combinado a través de un lenguaje común basado en Python o directamente a través de interfaces o envoltorios.\n",
    "La interacción con el usuario es posible desde la interfaz de [Jupyter Notebook](https://jupyter.org/), la cual es una aplicación web de código abierto que permite crear y compartir documentos que contienen código en vivo, ecuaciones, visualizaciones y texto narrativo.\n",
    "\n",
    "# Uso de Sagemath en la enseñanza de la física\n",
    "\n",
    "En la actualidad no es posible desarrollar física de alto nivel sin tener conocimientos de herramientas computacionales. Incluso en las áreas de física teórica, donde tradicionalmente se realizan los cálculos analíticamente, el uso de herramientas computacionales aumenta el campo de investigación debido a que es posible resolver numéricamente ecuaciones que antes requerían un gran esfuerzo de cálculo y mucho tiempo. La obtención de datos numéricos y gráficas de comportamiento de diversos sistemas, obtenidos en los laboratorios, requiere el uso de herramientas computacionales de tratamiento, para  su análisis e interpretación, en el marco de las teorías existentes.\n",
    "\n",
    "Es por lo expuesto que se hace necesario introducir el uso de las herramientas computacionales desde años tempranos en las carreras de física, sin embargo estas deben de mantener su condición de herramienta y no ser la parte fundamental del proceso de formación del físico, a menos que se trate de un curso especializado.\n",
    "\n",
    "Para cumplir este objetivo, **Sagemath** permite introducir la lógica de la programación, sin necesidad de profundizar en el mundo mismo de la programación ni distraer del objetivo principal, el cual, en este caso es la formación de futuros físicos.\n",
    "\n",
    "# Sagemath como calculadora científica\n",
    "El primer uso que le vamos a dar a Sagemath es como una calculadora programable, con lo cual podremos sistematizar los cálculos que habitualmente se relizan en los cursos de física.\n",
    "\n",
    "## Operaciones básicas\n",
    "\n",
    "Las operaciones básicas tienen la forma habitual de cualquier lenguaje de programación\n"
   ]
  },
  {
   "cell_type": "code",
   "execution_count": 1,
   "id": "fresh-medium",
   "metadata": {},
   "outputs": [],
   "source": [
    "version()\n",
    "%display latex"
   ]
  },
  {
   "cell_type": "code",
   "execution_count": 2,
   "id": "german-portugal",
   "metadata": {},
   "outputs": [
    {
     "data": {
      "text/html": [
       "<html><script type=\"math/tex; mode=display\">\\newcommand{\\Bold}[1]{\\mathbf{#1}}8</script></html>"
      ],
      "text/latex": [
       "\\begin{math}\n",
       "\\newcommand{\\Bold}[1]{\\mathbf{#1}}8\n",
       "\\end{math}"
      ],
      "text/plain": [
       "8"
      ]
     },
     "execution_count": 2,
     "metadata": {},
     "output_type": "execute_result"
    }
   ],
   "source": [
    "3+5 # La suma se realiza por medio del operador '+'"
   ]
  },
  {
   "cell_type": "code",
   "execution_count": 3,
   "id": "biblical-faculty",
   "metadata": {},
   "outputs": [
    {
     "data": {
      "text/html": [
       "<html><script type=\"math/tex; mode=display\">\\newcommand{\\Bold}[1]{\\mathbf{#1}}10764</script></html>"
      ],
      "text/latex": [
       "\\begin{math}\n",
       "\\newcommand{\\Bold}[1]{\\mathbf{#1}}10764\n",
       "\\end{math}"
      ],
      "text/plain": [
       "10764"
      ]
     },
     "execution_count": 3,
     "metadata": {},
     "output_type": "execute_result"
    }
   ],
   "source": [
    "46*234 # el producto usa '*'"
   ]
  },
  {
   "cell_type": "code",
   "execution_count": 4,
   "id": "numerical-ownership",
   "metadata": {},
   "outputs": [
    {
     "data": {
      "text/html": [
       "<html><script type=\"math/tex; mode=display\">\\newcommand{\\Bold}[1]{\\mathbf{#1}}125</script></html>"
      ],
      "text/latex": [
       "\\begin{math}\n",
       "\\newcommand{\\Bold}[1]{\\mathbf{#1}}125\n",
       "\\end{math}"
      ],
      "text/plain": [
       "125"
      ]
     },
     "execution_count": 4,
     "metadata": {},
     "output_type": "execute_result"
    }
   ],
   "source": [
    "5^3 # La potenciación por medio del símbolo '^' o de '**'"
   ]
  },
  {
   "cell_type": "code",
   "execution_count": 5,
   "id": "floating-responsibility",
   "metadata": {},
   "outputs": [
    {
     "data": {
      "text/html": [
       "<html><script type=\"math/tex; mode=display\">\\newcommand{\\Bold}[1]{\\mathbf{#1}}125</script></html>"
      ],
      "text/latex": [
       "\\begin{math}\n",
       "\\newcommand{\\Bold}[1]{\\mathbf{#1}}125\n",
       "\\end{math}"
      ],
      "text/plain": [
       "125"
      ]
     },
     "execution_count": 5,
     "metadata": {},
     "output_type": "execute_result"
    }
   ],
   "source": [
    "5**3"
   ]
  },
  {
   "cell_type": "code",
   "execution_count": 6,
   "id": "complicated-objective",
   "metadata": {},
   "outputs": [
    {
     "data": {
      "text/html": [
       "<html><script type=\"math/tex; mode=display\">\\newcommand{\\Bold}[1]{\\mathbf{#1}}\\sqrt{78}</script></html>"
      ],
      "text/latex": [
       "\\begin{math}\n",
       "\\newcommand{\\Bold}[1]{\\mathbf{#1}}\\sqrt{78}\n",
       "\\end{math}"
      ],
      "text/plain": [
       "sqrt(78)"
      ]
     },
     "execution_count": 6,
     "metadata": {},
     "output_type": "execute_result"
    }
   ],
   "source": [
    "sqrt(78) "
   ]
  },
  {
   "cell_type": "markdown",
   "id": "dramatic-norfolk",
   "metadata": {},
   "source": [
    "Como vemos, hemos obtenido la expresión matemática, mas no su valor numérico. en caso que necesitemos su valor numérico debemos decirle a Sage que nos de una aproximación numérica"
   ]
  },
  {
   "cell_type": "code",
   "execution_count": 7,
   "id": "ahead-portland",
   "metadata": {},
   "outputs": [
    {
     "data": {
      "text/html": [
       "<html><script type=\"math/tex; mode=display\">\\newcommand{\\Bold}[1]{\\mathbf{#1}}8.83176086632785</script></html>"
      ],
      "text/latex": [
       "\\begin{math}\n",
       "\\newcommand{\\Bold}[1]{\\mathbf{#1}}8.83176086632785\n",
       "\\end{math}"
      ],
      "text/plain": [
       "8.83176086632785"
      ]
     },
     "execution_count": 7,
     "metadata": {},
     "output_type": "execute_result"
    }
   ],
   "source": [
    "sqrt(78).numerical_approx()"
   ]
  },
  {
   "cell_type": "code",
   "execution_count": 8,
   "id": "painted-respect",
   "metadata": {},
   "outputs": [
    {
     "data": {
      "text/html": [
       "<html><script type=\"math/tex; mode=display\">\\newcommand{\\Bold}[1]{\\mathbf{#1}}8.832</script></html>"
      ],
      "text/latex": [
       "\\begin{math}\n",
       "\\newcommand{\\Bold}[1]{\\mathbf{#1}}8.832\n",
       "\\end{math}"
      ],
      "text/plain": [
       "8.832"
      ]
     },
     "execution_count": 8,
     "metadata": {},
     "output_type": "execute_result"
    }
   ],
   "source": [
    "sqrt(78).numerical_approx(digits=4) # Podemos obtener el resultado numérico con la aproximación deseada."
   ]
  },
  {
   "cell_type": "markdown",
   "id": "wrapped-johnston",
   "metadata": {},
   "source": [
    "Sage reconoce la prioridad de las operaciones aritméticas, por lo que, para expresiones complejas es necesario utilizar paréntesis.  Por ejemplo\n",
    "$$25+\\frac{3*5+7*(4+2)}{2+6*(4-2)}$$\n",
    "\n"
   ]
  },
  {
   "cell_type": "code",
   "execution_count": 9,
   "id": "meaning-prospect",
   "metadata": {},
   "outputs": [
    {
     "data": {
      "text/html": [
       "<html><script type=\"math/tex; mode=display\">\\newcommand{\\Bold}[1]{\\mathbf{#1}}\\frac{407}{14}</script></html>"
      ],
      "text/latex": [
       "\\begin{math}\n",
       "\\newcommand{\\Bold}[1]{\\mathbf{#1}}\\frac{407}{14}\n",
       "\\end{math}"
      ],
      "text/plain": [
       "407/14"
      ]
     },
     "execution_count": 9,
     "metadata": {},
     "output_type": "execute_result"
    }
   ],
   "source": [
    "25+(3*5+7*(4+2))/(2+6*(4-2))"
   ]
  },
  {
   "cell_type": "code",
   "execution_count": 10,
   "id": "distinguished-procurement",
   "metadata": {},
   "outputs": [
    {
     "data": {
      "text/html": [
       "<html><script type=\"math/tex; mode=display\">\\newcommand{\\Bold}[1]{\\mathbf{#1}}29.0714285714286</script></html>"
      ],
      "text/latex": [
       "\\begin{math}\n",
       "\\newcommand{\\Bold}[1]{\\mathbf{#1}}29.0714285714286\n",
       "\\end{math}"
      ],
      "text/plain": [
       "29.0714285714286"
      ]
     },
     "execution_count": 10,
     "metadata": {},
     "output_type": "execute_result"
    }
   ],
   "source": [
    "n(25+(3*5+7*(4+2))/(2+6*(4-2))) # Para obtener el valor decimal"
   ]
  },
  {
   "cell_type": "markdown",
   "id": "thorough-rough",
   "metadata": {},
   "source": [
    "## Funciones\n",
    "En Sagemath se pueden utilizar directamente las funciones comunmente utilizadas en el cálculo diferencial e integral"
   ]
  },
  {
   "cell_type": "code",
   "execution_count": 11,
   "id": "fantastic-farming",
   "metadata": {},
   "outputs": [
    {
     "data": {
      "text/html": [
       "<html><script type=\"math/tex; mode=display\">\\newcommand{\\Bold}[1]{\\mathbf{#1}}\\sin\\left(2\\right)</script></html>"
      ],
      "text/latex": [
       "\\begin{math}\n",
       "\\newcommand{\\Bold}[1]{\\mathbf{#1}}\\sin\\left(2\\right)\n",
       "\\end{math}"
      ],
      "text/plain": [
       "sin(2)"
      ]
     },
     "execution_count": 11,
     "metadata": {},
     "output_type": "execute_result"
    }
   ],
   "source": [
    "sin(2) # Expresión matemática"
   ]
  },
  {
   "cell_type": "code",
   "execution_count": 12,
   "id": "antique-complexity",
   "metadata": {},
   "outputs": [
    {
     "data": {
      "text/html": [
       "<html><script type=\"math/tex; mode=display\">\\newcommand{\\Bold}[1]{\\mathbf{#1}}0.909297426825682</script></html>"
      ],
      "text/latex": [
       "\\begin{math}\n",
       "\\newcommand{\\Bold}[1]{\\mathbf{#1}}0.909297426825682\n",
       "\\end{math}"
      ],
      "text/plain": [
       "0.909297426825682"
      ]
     },
     "execution_count": 12,
     "metadata": {},
     "output_type": "execute_result"
    }
   ],
   "source": [
    "sin(2).numerical_approx() # Valor numérico"
   ]
  },
  {
   "cell_type": "code",
   "execution_count": 13,
   "id": "explicit-documentary",
   "metadata": {},
   "outputs": [
    {
     "data": {
      "text/html": [
       "<html><script type=\"math/tex; mode=display\">\\newcommand{\\Bold}[1]{\\mathbf{#1}}\\frac{1}{2} \\, \\sqrt{2}</script></html>"
      ],
      "text/latex": [
       "\\begin{math}\n",
       "\\newcommand{\\Bold}[1]{\\mathbf{#1}}\\frac{1}{2} \\, \\sqrt{2}\n",
       "\\end{math}"
      ],
      "text/plain": [
       "1/2*sqrt(2)"
      ]
     },
     "execution_count": 13,
     "metadata": {},
     "output_type": "execute_result"
    }
   ],
   "source": [
    "cos(pi/4) # Sagemath reconoce el número _pi_"
   ]
  },
  {
   "cell_type": "code",
   "execution_count": 14,
   "id": "worldwide-aircraft",
   "metadata": {},
   "outputs": [
    {
     "data": {
      "text/html": [
       "<html><script type=\"math/tex; mode=display\">\\newcommand{\\Bold}[1]{\\mathbf{#1}}0.707106781186548</script></html>"
      ],
      "text/latex": [
       "\\begin{math}\n",
       "\\newcommand{\\Bold}[1]{\\mathbf{#1}}0.707106781186548\n",
       "\\end{math}"
      ],
      "text/plain": [
       "0.707106781186548"
      ]
     },
     "execution_count": 14,
     "metadata": {},
     "output_type": "execute_result"
    }
   ],
   "source": [
    "cos(pi/4).numerical_approx()"
   ]
  },
  {
   "cell_type": "code",
   "execution_count": 15,
   "id": "assisted-malawi",
   "metadata": {},
   "outputs": [
    {
     "data": {
      "text/html": [
       "<html><script type=\"math/tex; mode=display\">\\newcommand{\\Bold}[1]{\\mathbf{#1}}e^{4}</script></html>"
      ],
      "text/latex": [
       "\\begin{math}\n",
       "\\newcommand{\\Bold}[1]{\\mathbf{#1}}e^{4}\n",
       "\\end{math}"
      ],
      "text/plain": [
       "e^4"
      ]
     },
     "execution_count": 15,
     "metadata": {},
     "output_type": "execute_result"
    }
   ],
   "source": [
    "exp(4) # Expresión matemática"
   ]
  },
  {
   "cell_type": "code",
   "execution_count": 16,
   "id": "framed-trigger",
   "metadata": {},
   "outputs": [
    {
     "data": {
      "text/html": [
       "<html><script type=\"math/tex; mode=display\">\\newcommand{\\Bold}[1]{\\mathbf{#1}}54.5981500331442</script></html>"
      ],
      "text/latex": [
       "\\begin{math}\n",
       "\\newcommand{\\Bold}[1]{\\mathbf{#1}}54.5981500331442\n",
       "\\end{math}"
      ],
      "text/plain": [
       "54.5981500331442"
      ]
     },
     "execution_count": 16,
     "metadata": {},
     "output_type": "execute_result"
    }
   ],
   "source": [
    "exp(4).numerical_approx() # también se puede escribir n(exp(4))"
   ]
  },
  {
   "cell_type": "markdown",
   "id": "loaded-student",
   "metadata": {},
   "source": [
    "## Asignación y comparación de expresiones\n",
    "\n",
    "Sagemath utiliza el símbolo  **=** para la asignación de valores y usa los siguientes símbolos  **==, <=, >=, < y >** para la comparación de valores y expresiones.\n",
    "\n"
   ]
  },
  {
   "cell_type": "code",
   "execution_count": 17,
   "id": "foster-mother",
   "metadata": {},
   "outputs": [],
   "source": [
    "a = 2"
   ]
  },
  {
   "cell_type": "code",
   "execution_count": 18,
   "id": "backed-stadium",
   "metadata": {},
   "outputs": [],
   "source": [
    "b = 3"
   ]
  },
  {
   "cell_type": "code",
   "execution_count": 19,
   "id": "northern-diary",
   "metadata": {},
   "outputs": [
    {
     "data": {
      "text/html": [
       "<html><script type=\"math/tex; mode=display\">\\newcommand{\\Bold}[1]{\\mathbf{#1}}\\mathrm{False}</script></html>"
      ],
      "text/latex": [
       "\\begin{math}\n",
       "\\newcommand{\\Bold}[1]{\\mathbf{#1}}\\mathrm{False}\n",
       "\\end{math}"
      ],
      "text/plain": [
       "False"
      ]
     },
     "execution_count": 19,
     "metadata": {},
     "output_type": "execute_result"
    }
   ],
   "source": [
    "a == b"
   ]
  },
  {
   "cell_type": "code",
   "execution_count": 20,
   "id": "muslim-british",
   "metadata": {},
   "outputs": [
    {
     "data": {
      "text/html": [
       "<html><script type=\"math/tex; mode=display\">\\newcommand{\\Bold}[1]{\\mathbf{#1}}\\mathrm{True}</script></html>"
      ],
      "text/latex": [
       "\\begin{math}\n",
       "\\newcommand{\\Bold}[1]{\\mathbf{#1}}\\mathrm{True}\n",
       "\\end{math}"
      ],
      "text/plain": [
       "True"
      ]
     },
     "execution_count": 20,
     "metadata": {},
     "output_type": "execute_result"
    }
   ],
   "source": [
    "a < b"
   ]
  },
  {
   "cell_type": "code",
   "execution_count": 21,
   "id": "italian-mouth",
   "metadata": {},
   "outputs": [
    {
     "data": {
      "text/html": [
       "<html><script type=\"math/tex; mode=display\">\\newcommand{\\Bold}[1]{\\mathbf{#1}}5</script></html>"
      ],
      "text/latex": [
       "\\begin{math}\n",
       "\\newcommand{\\Bold}[1]{\\mathbf{#1}}5\n",
       "\\end{math}"
      ],
      "text/plain": [
       "5"
      ]
     },
     "execution_count": 21,
     "metadata": {},
     "output_type": "execute_result"
    }
   ],
   "source": [
    "a+b"
   ]
  },
  {
   "cell_type": "markdown",
   "id": "requested-cradle",
   "metadata": {},
   "source": [
    "## Expresiones algebraicas\n",
    "\n",
    "Una de las principales ventajas de Sagemath es la posibilidad de utilizar expresiones algebraicas y trabajarlas de forma simbólica. Para poder hacerlo hay que, inicialmente, decirle a Sagemath cuales son las variables."
   ]
  },
  {
   "cell_type": "code",
   "execution_count": 22,
   "id": "maritime-retro",
   "metadata": {},
   "outputs": [],
   "source": [
    "x = var('x') # asignamos a x la calidad de variable"
   ]
  },
  {
   "cell_type": "code",
   "execution_count": 23,
   "id": "bigger-incidence",
   "metadata": {},
   "outputs": [
    {
     "data": {
      "text/html": [
       "<html><script type=\"math/tex; mode=display\">\\newcommand{\\Bold}[1]{\\mathbf{#1}}x^{2} + 5 \\, x + 6</script></html>"
      ],
      "text/latex": [
       "\\begin{math}\n",
       "\\newcommand{\\Bold}[1]{\\mathbf{#1}}x^{2} + 5 \\, x + 6\n",
       "\\end{math}"
      ],
      "text/plain": [
       "x^2 + 5*x + 6"
      ]
     },
     "execution_count": 23,
     "metadata": {},
     "output_type": "execute_result"
    }
   ],
   "source": [
    "x^2+5*x+6 # Podemos escribir una expresion algebraica, con la variable definida"
   ]
  },
  {
   "cell_type": "markdown",
   "id": "studied-phenomenon",
   "metadata": {},
   "source": [
    "Para solucionar una ecuación algebraica utilozamos la orden **solve()**. La forma de utilizar la orden es \n",
    "- *solve( expresión , variable)*.\n",
    "\n",
    "Resolvamos la ecuación que se obtiene al igular la expresión anterior a cero\n",
    "$$ x^2+5x+6=0$$"
   ]
  },
  {
   "cell_type": "code",
   "execution_count": 24,
   "id": "neutral-maker",
   "metadata": {},
   "outputs": [
    {
     "data": {
      "text/html": [
       "<html><script type=\"math/tex; mode=display\">\\newcommand{\\Bold}[1]{\\mathbf{#1}}\\left[x = \\left(-3\\right), x = \\left(-2\\right)\\right]</script></html>"
      ],
      "text/latex": [
       "\\begin{math}\n",
       "\\newcommand{\\Bold}[1]{\\mathbf{#1}}\\left[x = \\left(-3\\right), x = \\left(-2\\right)\\right]\n",
       "\\end{math}"
      ],
      "text/plain": [
       "[x == -3, x == -2]"
      ]
     },
     "execution_count": 24,
     "metadata": {},
     "output_type": "execute_result"
    }
   ],
   "source": [
    "solve(x^2+5*x+6,x)"
   ]
  },
  {
   "cell_type": "markdown",
   "id": "adopted-intellectual",
   "metadata": {},
   "source": [
    "Podemos escribir más de una variable y solucionar la ecuacion con respecto a una de las variables dadas."
   ]
  },
  {
   "cell_type": "code",
   "execution_count": 25,
   "id": "harmful-director",
   "metadata": {},
   "outputs": [
    {
     "data": {
      "text/html": [
       "<html><script type=\"math/tex; mode=display\">\\newcommand{\\Bold}[1]{\\mathbf{#1}}\\left[x = -\\frac{b + \\sqrt{b^{2} - 4 \\, a c}}{2 \\, a}, x = -\\frac{b - \\sqrt{b^{2} - 4 \\, a c}}{2 \\, a}\\right]</script></html>"
      ],
      "text/latex": [
       "\\begin{math}\n",
       "\\newcommand{\\Bold}[1]{\\mathbf{#1}}\\left[x = -\\frac{b + \\sqrt{b^{2} - 4 \\, a c}}{2 \\, a}, x = -\\frac{b - \\sqrt{b^{2} - 4 \\, a c}}{2 \\, a}\\right]\n",
       "\\end{math}"
      ],
      "text/plain": [
       "[x == -1/2*(b + sqrt(b^2 - 4*a*c))/a, x == -1/2*(b - sqrt(b^2 - 4*a*c))/a]"
      ]
     },
     "execution_count": 25,
     "metadata": {},
     "output_type": "execute_result"
    }
   ],
   "source": [
    "x, a, b, c = var('x a b c') # Definimos las variables\n",
    "solve([a*x^2 + b*x + c == 0],x) # resolvemos la ecuación"
   ]
  },
  {
   "cell_type": "code",
   "execution_count": null,
   "id": "macro-decade",
   "metadata": {},
   "outputs": [],
   "source": []
  },
  {
   "cell_type": "markdown",
   "id": "fallen-aggregate",
   "metadata": {},
   "source": []
  }
 ],
 "metadata": {
  "kernelspec": {
   "display_name": "SageMath 9.2",
   "language": "sage",
   "name": "sagemath"
  },
  "language_info": {
   "codemirror_mode": {
    "name": "ipython",
    "version": 3
   },
   "file_extension": ".py",
   "mimetype": "text/x-python",
   "name": "python",
   "nbconvert_exporter": "python",
   "pygments_lexer": "ipython3",
   "version": "3.9.2"
  }
 },
 "nbformat": 4,
 "nbformat_minor": 5
}
